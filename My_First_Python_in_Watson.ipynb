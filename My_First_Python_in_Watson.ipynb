{
    "cells": [
        {
            "cell_type": "markdown",
            "metadata": {},
            "source": "# My Jupyter Notebook on IBM Watson Studio"
        },
        {
            "cell_type": "markdown",
            "metadata": {
                "collapsed": true
            },
            "source": "**Roelof van Dalen**\n\nDesired Occupation: Data Scientist"
        },
        {
            "cell_type": "markdown",
            "metadata": {},
            "source": "*I am interested in data science because it is amazing to see all the possibilities there are to make our life easier, and better understand the data we are working with.*"
        },
        {
            "cell_type": "markdown",
            "metadata": {},
            "source": "#### The code below will do a calculation of three multiplied by three, if all goes well this will return 9"
        },
        {
            "cell_type": "code",
            "execution_count": 1,
            "metadata": {},
            "outputs": [
                {
                    "data": {
                        "text/plain": "9"
                    },
                    "execution_count": 1,
                    "metadata": {},
                    "output_type": "execute_result"
                }
            ],
            "source": "3*3"
        },
        {
            "cell_type": "markdown",
            "metadata": {},
            "source": "[I am a hyperlink](https://www.google.com)\n\n|This|is|a|table|\n|:---:|:---:|:---:|:---:|\n|My|table|looks|**Great**|\n|`dont`|*you*|**Think**|?|\n\nAnd a horizontal rule to finish the job!\n___"
        },
        {
            "cell_type": "code",
            "execution_count": null,
            "metadata": {},
            "outputs": [],
            "source": ""
        }
    ],
    "metadata": {
        "kernelspec": {
            "display_name": "Python 3.7",
            "language": "python",
            "name": "python3"
        },
        "language_info": {
            "codemirror_mode": {
                "name": "ipython",
                "version": 3
            },
            "file_extension": ".py",
            "mimetype": "text/x-python",
            "name": "python",
            "nbconvert_exporter": "python",
            "pygments_lexer": "ipython3",
            "version": "3.7.10"
        }
    },
    "nbformat": 4,
    "nbformat_minor": 1
}